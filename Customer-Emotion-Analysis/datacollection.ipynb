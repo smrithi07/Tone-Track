{
 "cells": [
  {
   "cell_type": "code",
   "execution_count": 1,
   "metadata": {},
   "outputs": [
    {
     "name": "stderr",
     "output_type": "stream",
     "text": [
      "c:\\Users\\smrit\\miniconda3\\Lib\\site-packages\\tqdm\\auto.py:21: TqdmWarning: IProgress not found. Please update jupyter and ipywidgets. See https://ipywidgets.readthedocs.io/en/stable/user_install.html\n",
      "  from .autonotebook import tqdm as notebook_tqdm\n"
     ]
    }
   ],
   "source": [
    "import pandas as pd\n",
    "import json\n",
    "\n",
    "# Download GoEmotions dataset from Hugging Face\n",
    "from datasets import load_dataset\n",
    "dataset = load_dataset(\"go_emotions\")\n",
    "\n",
    "# Convert to DataFrame\n",
    "df = pd.DataFrame(dataset['train'])\n",
    "\n",
    "\n"
   ]
  },
  {
   "cell_type": "code",
   "execution_count": 9,
   "metadata": {},
   "outputs": [
    {
     "data": {
      "text/html": [
       "<div>\n",
       "<style scoped>\n",
       "    .dataframe tbody tr th:only-of-type {\n",
       "        vertical-align: middle;\n",
       "    }\n",
       "\n",
       "    .dataframe tbody tr th {\n",
       "        vertical-align: top;\n",
       "    }\n",
       "\n",
       "    .dataframe thead th {\n",
       "        text-align: right;\n",
       "    }\n",
       "</style>\n",
       "<table border=\"1\" class=\"dataframe\">\n",
       "  <thead>\n",
       "    <tr style=\"text-align: right;\">\n",
       "      <th></th>\n",
       "      <th>text</th>\n",
       "      <th>labels</th>\n",
       "      <th>id</th>\n",
       "    </tr>\n",
       "  </thead>\n",
       "  <tbody>\n",
       "    <tr>\n",
       "      <th>0</th>\n",
       "      <td>My favourite food is anything I didn't have to...</td>\n",
       "      <td>[27]</td>\n",
       "      <td>eebbqej</td>\n",
       "    </tr>\n",
       "    <tr>\n",
       "      <th>1</th>\n",
       "      <td>Now if he does off himself, everyone will thin...</td>\n",
       "      <td>[27]</td>\n",
       "      <td>ed00q6i</td>\n",
       "    </tr>\n",
       "    <tr>\n",
       "      <th>2</th>\n",
       "      <td>WHY THE FUCK IS BAYLESS ISOING</td>\n",
       "      <td>[2]</td>\n",
       "      <td>eezlygj</td>\n",
       "    </tr>\n",
       "    <tr>\n",
       "      <th>3</th>\n",
       "      <td>To make her feel threatened</td>\n",
       "      <td>[14]</td>\n",
       "      <td>ed7ypvh</td>\n",
       "    </tr>\n",
       "    <tr>\n",
       "      <th>4</th>\n",
       "      <td>Dirty Southern Wankers</td>\n",
       "      <td>[3]</td>\n",
       "      <td>ed0bdzj</td>\n",
       "    </tr>\n",
       "  </tbody>\n",
       "</table>\n",
       "</div>"
      ],
      "text/plain": [
       "                                                text labels       id\n",
       "0  My favourite food is anything I didn't have to...   [27]  eebbqej\n",
       "1  Now if he does off himself, everyone will thin...   [27]  ed00q6i\n",
       "2                     WHY THE FUCK IS BAYLESS ISOING    [2]  eezlygj\n",
       "3                        To make her feel threatened   [14]  ed7ypvh\n",
       "4                             Dirty Southern Wankers    [3]  ed0bdzj"
      ]
     },
     "execution_count": 9,
     "metadata": {},
     "output_type": "execute_result"
    }
   ],
   "source": [
    "df.head()"
   ]
  },
  {
   "cell_type": "code",
   "execution_count": 24,
   "metadata": {},
   "outputs": [
    {
     "name": "stdout",
     "output_type": "stream",
     "text": [
      "Missing values in GoEmotions dataset:\n",
      "text      0\n",
      "labels    0\n",
      "id        0\n",
      "dtype: int64\n"
     ]
    }
   ],
   "source": [
    "print(\"Missing values in GoEmotions dataset:\")\n",
    "print(df.isnull().sum())"
   ]
  },
  {
   "cell_type": "code",
   "execution_count": null,
   "metadata": {},
   "outputs": [
    {
     "name": "stdout",
     "output_type": "stream",
     "text": [
      "['admiration', 'amusement', 'anger', 'annoyance', 'approval', 'caring', 'confusion', 'curiosity', 'desire', 'disappointment', 'disapproval', 'disgust', 'embarrassment', 'excitement', 'fear', 'gratitude', 'grief', 'joy', 'love', 'nervousness', 'optimism', 'pride', 'realization', 'relief', 'remorse', 'sadness', 'surprise', 'neutral']\n"
     ]
    }
   ],
   "source": [
    "label_names = dataset['train'].features['labels'].feature.names\n",
    "print(label_names)"
   ]
  },
  {
   "cell_type": "code",
   "execution_count": 11,
   "metadata": {},
   "outputs": [
    {
     "data": {
      "text/html": [
       "<div>\n",
       "<style scoped>\n",
       "    .dataframe tbody tr th:only-of-type {\n",
       "        vertical-align: middle;\n",
       "    }\n",
       "\n",
       "    .dataframe tbody tr th {\n",
       "        vertical-align: top;\n",
       "    }\n",
       "\n",
       "    .dataframe thead th {\n",
       "        text-align: right;\n",
       "    }\n",
       "</style>\n",
       "<table border=\"1\" class=\"dataframe\">\n",
       "  <thead>\n",
       "    <tr style=\"text-align: right;\">\n",
       "      <th></th>\n",
       "      <th>text</th>\n",
       "      <th>labels</th>\n",
       "      <th>emotions</th>\n",
       "    </tr>\n",
       "  </thead>\n",
       "  <tbody>\n",
       "    <tr>\n",
       "      <th>0</th>\n",
       "      <td>My favourite food is anything I didn't have to...</td>\n",
       "      <td>[27]</td>\n",
       "      <td>[neutral]</td>\n",
       "    </tr>\n",
       "    <tr>\n",
       "      <th>1</th>\n",
       "      <td>Now if he does off himself, everyone will thin...</td>\n",
       "      <td>[27]</td>\n",
       "      <td>[neutral]</td>\n",
       "    </tr>\n",
       "    <tr>\n",
       "      <th>2</th>\n",
       "      <td>WHY THE FUCK IS BAYLESS ISOING</td>\n",
       "      <td>[2]</td>\n",
       "      <td>[anger]</td>\n",
       "    </tr>\n",
       "    <tr>\n",
       "      <th>3</th>\n",
       "      <td>To make her feel threatened</td>\n",
       "      <td>[14]</td>\n",
       "      <td>[fear]</td>\n",
       "    </tr>\n",
       "    <tr>\n",
       "      <th>4</th>\n",
       "      <td>Dirty Southern Wankers</td>\n",
       "      <td>[3]</td>\n",
       "      <td>[annoyance]</td>\n",
       "    </tr>\n",
       "  </tbody>\n",
       "</table>\n",
       "</div>"
      ],
      "text/plain": [
       "                                                text labels     emotions\n",
       "0  My favourite food is anything I didn't have to...   [27]    [neutral]\n",
       "1  Now if he does off himself, everyone will thin...   [27]    [neutral]\n",
       "2                     WHY THE FUCK IS BAYLESS ISOING    [2]      [anger]\n",
       "3                        To make her feel threatened   [14]       [fear]\n",
       "4                             Dirty Southern Wankers    [3]  [annoyance]"
      ]
     },
     "execution_count": 11,
     "metadata": {},
     "output_type": "execute_result"
    }
   ],
   "source": [
    "# Keep only relevant columns\n",
    "df = df[['text', 'labels']]\n",
    "\n",
    "# Map label indexes to emotion names\n",
    "emotion_labels = [\"admiration\", \"amusement\", \"anger\", \"annoyance\", \"approval\", \"caring\",\n",
    "                  \"confusion\", \"curiosity\", \"desire\", \"disappointment\", \"disapproval\", \n",
    "                  \"disgust\", \"embarrassment\", \"excitement\", \"fear\", \"gratitude\", \"grief\", \n",
    "                  \"joy\", \"love\", \"nervousness\", \"optimism\", \"pride\", \"realization\", \"relief\", \n",
    "                  \"remorse\", \"sadness\", \"surprise\", \"neutral\"]\n",
    "\n",
    "df[\"emotions\"] = df[\"labels\"].apply(lambda x: [emotion_labels[i] for i in x])\n",
    "df.head()\n"
   ]
  },
  {
   "cell_type": "code",
   "execution_count": 12,
   "metadata": {},
   "outputs": [
    {
     "name": "stdout",
     "output_type": "stream",
     "text": [
      "                                                text     emotions\n",
      "0  My favourite food is anything I didn't have to...    [neutral]\n",
      "1  Now if he does off himself, everyone will thin...    [neutral]\n",
      "2                     WHY THE FUCK IS BAYLESS ISOING      [anger]\n",
      "3                        To make her feel threatened       [fear]\n",
      "4                             Dirty Southern Wankers  [annoyance]\n",
      "GoEmotions dataset saved!\n"
     ]
    }
   ],
   "source": [
    "# Remove unnecessary columns\n",
    "df = df[['text', 'emotions']]\n",
    "print(df.head())\n",
    "# Save as JSON\n",
    "df.to_json(\"goemotions_cleaned.json\", orient=\"records\", indent=2)\n",
    "print(\"GoEmotions dataset saved!\")"
   ]
  },
  {
   "cell_type": "code",
   "execution_count": 9,
   "metadata": {},
   "outputs": [
    {
     "name": "stdout",
     "output_type": "stream",
     "text": [
      "[\n",
      "  {\n",
      "    \"Title\": \"label2 stuning even for the nongamer\",\n",
      "    \"Review\": \"this sound track was beautiful it paints the senery in your mind so well i would recomend it even to people who hate vid game music i have played the game chrono cross but out of all of the games i have ever played it has the best music it backs away from crude keyboarding and takes a fresher step with grate guitars and soulful orchestras it would impress anyone who cares to listen\",\n",
      "    \"Label\": 1\n",
      "  },\n",
      "  {\n",
      "    \"Title\": \"label2 the best soundtrack ever to anything\",\n",
      "    \"Review\": \"im reading a lot of reviews saying that this is the best game soundtrack and i figured that id write a review to disagree a bit this in my opinino is yasunori mitsudas ultimate masterpiece the music is timeless and im been listening to it for years now and its beauty simply refuses to fadethe price tag on this is pretty staggering i must say but if you are going to buy any cd for this much money this is the only one that i feel would be worth every penny\",\n",
      "    \"Label\": 1\n",
      "  },\n",
      "  {\n",
      "    \"Title\": \"label2 amazing\",\n",
      "    \"Review\": \"this soundtrack is my favorite music of all time hands down the intense sadness of prisoners of fate which means all the more if youve played the game and the hope in a distant promise and girl who stole the star have been an important inspiration to me personally throughout my teen years the higher energy tracks like chrono cross times scar time of the dreamwatch and chronomantique indefinably remeniscent of chrono trigger are all absolutely superb as wellthis soundtrack is amazing music probably the best of this composers work i havent heard the xenogears soundtrack so i cant say for sure and even if youve never played the game it would be worth twice the price to buy iti wish i could give it 6 stars\",\n",
      "    \"Label\": 1\n",
      "  }\n",
      "]\n"
     ]
    }
   ],
   "source": [
    "with open(\"processed_reviews.json\", \"r\") as f:\n",
    "    reviews_list = json.load(f)\n",
    "\n",
    "# Display the first 3 entries\n",
    "print(json.dumps(reviews_list[:3], indent=2))"
   ]
  },
  {
   "cell_type": "code",
   "execution_count": 19,
   "metadata": {},
   "outputs": [
    {
     "name": "stdout",
     "output_type": "stream",
     "text": [
      "Index(['review_id', 'user_id', 'business_id', 'stars', 'useful', 'funny',\n",
      "       'cool', 'text', 'date'],\n",
      "      dtype='object')\n"
     ]
    }
   ],
   "source": [
    "import pandas as pd  \n",
    "\n",
    "# Define file path\n",
    "review_file = \"Yelp-JSON/Yelp JSON/yelp_dataset/yelp_academic_dataset_review.json\"\n",
    "\n",
    "# Read in chunks\n",
    "chunk_size = 100000  # Adjust based on available RAM\n",
    "chunks = pd.read_json(review_file, lines=True, chunksize=chunk_size)\n",
    "\n",
    "# Process first chunk (example)\n",
    "for chunk in chunks:\n",
    "    print(chunk.columns)  # View first few rows\n",
    "    break  # Stop after first chunk to prevent excessive memory usage\n"
   ]
  },
  {
   "cell_type": "code",
   "execution_count": 1,
   "metadata": {},
   "outputs": [
    {
     "name": "stdout",
     "output_type": "stream",
     "text": [
      "Possible file locations: ['Yelp-JSON\\\\Yelp JSON\\\\yelp_dataset\\\\yelp_academic_dataset_review.json']\n"
     ]
    }
   ],
   "source": [
    "import glob\n",
    "\n",
    "files = glob.glob(\"**/yelp_academic_dataset_review.json\", recursive=True)\n",
    "print(\"Possible file locations:\", files)\n"
   ]
  },
  {
   "cell_type": "code",
   "execution_count": 2,
   "metadata": {},
   "outputs": [
    {
     "name": "stdout",
     "output_type": "stream",
     "text": [
      "Business Data (Cleaned):               business_id                      name  \\\n",
      "0  Pns2l4eNsfO8kk83dixA6A  Abby Rappoport, LAC, CMQ   \n",
      "1  mpf3x-BjTdTEA3yCZrAYPw             The UPS Store   \n",
      "2  tUFrWirKiKi_TAnsVWINQQ                    Target   \n",
      "3  MTSW4McQd7CbVtyjqoe9mw        St Honore Pastries   \n",
      "4  mWMc6_wTdE0EUBKIGXDVfA  Perkiomen Valley Brewery   \n",
      "\n",
      "                                          categories  stars  \n",
      "0  Doctors, Traditional Chinese Medicine, Naturop...    5.0  \n",
      "1  Shipping Centers, Local Services, Notaries, Ma...    3.0  \n",
      "2  Department Stores, Shopping, Fashion, Home & G...    3.5  \n",
      "3  Restaurants, Food, Bubble Tea, Coffee & Tea, B...    4.0  \n",
      "4                          Brewpubs, Breweries, Food    4.5  \n"
     ]
    }
   ],
   "source": [
    "import pandas as pd\n",
    "\n",
    "# Load the business dataset and keep relevant columns\n",
    "business_df = pd.read_json(\"Yelp-JSON/Yelp JSON/yelp_dataset/yelp_academic_dataset_business.json\", lines=True)\n",
    "business_df_cleaned = business_df[['business_id', 'name', 'categories', 'stars']]\n",
    "\n",
    "\n",
    "# Display the cleaned dataframes\n",
    "print(\"Business Data (Cleaned):\", business_df_cleaned.head())\n"
   ]
  },
  {
   "cell_type": "code",
   "execution_count": 3,
   "metadata": {},
   "outputs": [
    {
     "name": "stdout",
     "output_type": "stream",
     "text": [
      "Missing values in yelp dataset:\n",
      "business_id      0\n",
      "name             0\n",
      "categories     103\n",
      "stars            0\n",
      "dtype: int64\n"
     ]
    }
   ],
   "source": [
    "print(\"Missing values in yelp dataset:\")\n",
    "print(business_df_cleaned.isnull().sum())"
   ]
  },
  {
   "cell_type": "code",
   "execution_count": 4,
   "metadata": {},
   "outputs": [
    {
     "data": {
      "text/plain": [
       "0"
      ]
     },
     "execution_count": 4,
     "metadata": {},
     "output_type": "execute_result"
    }
   ],
   "source": [
    "business_df_cleaned.duplicated().sum()\n"
   ]
  },
  {
   "cell_type": "code",
   "execution_count": 13,
   "metadata": {},
   "outputs": [
    {
     "name": "stdout",
     "output_type": "stream",
     "text": [
      "Business data saved to SQLite!\n"
     ]
    }
   ],
   "source": [
    "import pandas as pd\n",
    "import sqlite3\n",
    "\n",
    "# File paths\n",
    "business_file = \"Yelp-JSON/Yelp JSON/yelp_dataset/yelp_academic_dataset_business.json\"\n",
    "review_file = \"Yelp-JSON/Yelp JSON/yelp_dataset/yelp_academic_dataset_review.json\"\n",
    "db_file = \"yelp_data.db\"\n",
    "\n",
    "# Connect to SQLite database\n",
    "conn = sqlite3.connect(db_file)\n",
    "cursor = conn.cursor()\n",
    "\n",
    "# Create Business Table\n",
    "cursor.execute(\"\"\"\n",
    "    CREATE TABLE IF NOT EXISTS business (\n",
    "        business_id TEXT PRIMARY KEY,\n",
    "        name TEXT,\n",
    "        categories TEXT,\n",
    "        stars REAL\n",
    "    )\n",
    "\"\"\")\n",
    "\n",
    "# Load business data & insert into database\n",
    "business_df = pd.read_json(business_file, lines=True, dtype={\"business_id\": str})\n",
    "business_df_cleaned = business_df[['business_id', 'name', 'categories', 'stars']]\n",
    "business_df_cleaned.to_sql(\"business\", conn, if_exists=\"replace\", index=False)\n",
    "\n",
    "print(\"Business data saved to SQLite!\")\n",
    "\n",
    "# Create Review Table\n",
    "cursor.execute(\"\"\"\n",
    "    CREATE TABLE IF NOT EXISTS review (\n",
    "        review_id TEXT PRIMARY KEY,\n",
    "        business_id TEXT,\n",
    "        stars REAL,\n",
    "        text TEXT,\n",
    "        date TEXT,\n",
    "        FOREIGN KEY (business_id) REFERENCES business(business_id)\n",
    "    )\n",
    "\"\"\")\n",
    "\n",
    "# Close database connection\n",
    "conn.commit()\n",
    "conn.close()\n"
   ]
  },
  {
   "cell_type": "code",
   "execution_count": 6,
   "metadata": {},
   "outputs": [
    {
     "name": "stdout",
     "output_type": "stream",
     "text": [
      "⚠️ Skipping malformed line: {\"review_id\":\"_LCnev_dX3_X12YhZrvqsw\",\"user_id\":\"hzEHbzC49hFmFIZxMY47JQ\",\"business_id\":\"chxWW42Y3lB3\n",
      "✅ Successfully saved clean reviews to SQLite!\n"
     ]
    }
   ],
   "source": [
    "import pandas as pd\n",
    "import json\n",
    "\n",
    "review_file = \"Yelp-JSON/Yelp JSON/yelp_dataset/yelp_academic_dataset_review.json\"\n",
    "valid_reviews = []\n",
    "\n",
    "# Read JSON line-by-line to detect bad lines\n",
    "with open(review_file, \"r\", encoding=\"utf-8\") as f:\n",
    "    for line in f:\n",
    "        try:\n",
    "            review = json.loads(line)  # Attempt to parse JSON\n",
    "            valid_reviews.append(review)\n",
    "        except json.JSONDecodeError:\n",
    "            print(\"⚠️ Skipping malformed line:\", line[:100])  # Print first 100 chars of bad line\n",
    "\n",
    "# Convert to DataFrame\n",
    "review_df = pd.DataFrame(valid_reviews)\n",
    "\n",
    "# Save cleaned data to SQLite\n",
    "import sqlite3\n",
    "conn = sqlite3.connect(\"yelp_data.db\")\n",
    "\n",
    "# Store only relevant columns\n",
    "cols_needed = [\"review_id\", \"business_id\", \"stars\", \"text\", \"date\"]\n",
    "review_df = review_df[cols_needed]\n",
    "review_df.to_sql(\"review\", conn, if_exists=\"replace\", index=False)\n",
    "\n",
    "print(\"✅ Successfully saved clean reviews to SQLite!\")\n",
    "conn.close()\n"
   ]
  },
  {
   "cell_type": "code",
   "execution_count": 15,
   "metadata": {},
   "outputs": [
    {
     "data": {
      "text/plain": [
       "5567220"
      ]
     },
     "execution_count": 15,
     "metadata": {},
     "output_type": "execute_result"
    }
   ],
   "source": [
    "len(review_df)"
   ]
  },
  {
   "cell_type": "code",
   "execution_count": 28,
   "metadata": {},
   "outputs": [
    {
     "name": "stdout",
     "output_type": "stream",
     "text": [
      "⚠️ Skipping malformed line: {\"review_i\n",
      "Missing values per column:\n",
      "review_id      0\n",
      "user_id        0\n",
      "business_id    0\n",
      "stars          0\n",
      "useful         0\n",
      "funny          0\n",
      "cool           0\n",
      "text           0\n",
      "date           0\n",
      "dtype: int64\n",
      "Series([], dtype: int64)\n"
     ]
    }
   ],
   "source": [
    "import pandas as pd\n",
    "import json\n",
    "\n",
    "review_file = \"Yelp-JSON/Yelp JSON/yelp_dataset/yelp_academic_dataset_review.json\"\n",
    "valid_reviews = []\n",
    "\n",
    "# Read JSON line-by-line to detect bad lines\n",
    "with open(review_file, \"r\", encoding=\"utf-8\") as f:\n",
    "    for line in f:\n",
    "        try:\n",
    "            review = json.loads(line)  # Attempt to parse JSON\n",
    "            valid_reviews.append(review)\n",
    "        except json.JSONDecodeError:\n",
    "            print(\"⚠️ Skipping malformed line:\", line[:10])  # Print first 10 chars of bad line\n",
    "\n",
    "# Convert to DataFrame\n",
    "review_df = pd.DataFrame(valid_reviews)\n",
    "# Check for missing values in the DataFrame\n",
    "missing_values = review_df.isnull().sum()\n",
    "\n",
    "# Print the missing values summary\n",
    "print(\"Missing values per column:\")\n",
    "print(missing_values)\n",
    "# Display columns with missing values\n",
    "print(missing_values[missing_values > 0])\n"
   ]
  },
  {
   "cell_type": "code",
   "execution_count": 33,
   "metadata": {},
   "outputs": [
    {
     "data": {
      "text/plain": [
       "0"
      ]
     },
     "execution_count": 33,
     "metadata": {},
     "output_type": "execute_result"
    }
   ],
   "source": [
    "review_df.duplicated().sum()\n"
   ]
  },
  {
   "cell_type": "code",
   "execution_count": 27,
   "metadata": {},
   "outputs": [
    {
     "name": "stdout",
     "output_type": "stream",
     "text": [
      " Business Table Sample:\n",
      "               business_id                      name  \\\n",
      "0  Pns2l4eNsfO8kk83dixA6A  Abby Rappoport, LAC, CMQ   \n",
      "1  mpf3x-BjTdTEA3yCZrAYPw             The UPS Store   \n",
      "\n",
      "                                          categories  stars  \n",
      "0  Doctors, Traditional Chinese Medicine, Naturop...    5.0  \n",
      "1  Shipping Centers, Local Services, Notaries, Ma...    3.0  \n",
      "\n",
      " Review Table Sample:\n",
      "                 review_id             business_id  stars  \\\n",
      "0  KU_O5udG6zpxOg-VcAEodg  XQfwVwDr-v0ZS3_CbbE5Xw    3.0   \n",
      "1  BiTunyQ73aT9WBnpR9DZGw  7ATYjTIgM3jUlt4UM3IypQ    5.0   \n",
      "\n",
      "                                                text                 date  \n",
      "0  If you decide to eat here, just be aware it is...  2018-07-07 22:09:11  \n",
      "1  I've taken a lot of spin classes over the year...  2012-01-03 15:28:18  \n"
     ]
    }
   ],
   "source": [
    "import sqlite3\n",
    "import pandas as pd\n",
    "\n",
    "# Connect to SQLite database\n",
    "conn = sqlite3.connect(\"yelp_data.db\")\n",
    "\n",
    "# Fetch two sample records from the business table\n",
    "business_sample = pd.read_sql(\"SELECT * FROM business LIMIT 2;\", conn)\n",
    "\n",
    "# Fetch two sample records from the review table\n",
    "review_sample = pd.read_sql(\"SELECT * FROM review LIMIT 2;\", conn)\n",
    "\n",
    "# Close connection\n",
    "conn.close()\n",
    "\n",
    "# Display results\n",
    "print(\" Business Table Sample:\\n\", business_sample)\n",
    "print(\"\\n Review Table Sample:\\n\", review_sample)\n"
   ]
  },
  {
   "cell_type": "code",
   "execution_count": 7,
   "metadata": {},
   "outputs": [
    {
     "name": "stderr",
     "output_type": "stream",
     "text": [
      "c:\\Users\\smrit\\miniconda3\\Lib\\site-packages\\tqdm\\auto.py:21: TqdmWarning: IProgress not found. Please update jupyter and ipywidgets. See https://ipywidgets.readthedocs.io/en/stable/user_install.html\n",
      "  from .autonotebook import tqdm as notebook_tqdm\n"
     ]
    },
    {
     "data": {
      "text/html": [
       "<div>\n",
       "<style scoped>\n",
       "    .dataframe tbody tr th:only-of-type {\n",
       "        vertical-align: middle;\n",
       "    }\n",
       "\n",
       "    .dataframe tbody tr th {\n",
       "        vertical-align: top;\n",
       "    }\n",
       "\n",
       "    .dataframe thead th {\n",
       "        text-align: right;\n",
       "    }\n",
       "</style>\n",
       "<table border=\"1\" class=\"dataframe\">\n",
       "  <thead>\n",
       "    <tr style=\"text-align: right;\">\n",
       "      <th></th>\n",
       "      <th>text</th>\n",
       "      <th>label</th>\n",
       "    </tr>\n",
       "  </thead>\n",
       "  <tbody>\n",
       "    <tr>\n",
       "      <th>0</th>\n",
       "      <td>I rented I AM CURIOUS-YELLOW from my video sto...</td>\n",
       "      <td>0</td>\n",
       "    </tr>\n",
       "    <tr>\n",
       "      <th>1</th>\n",
       "      <td>\"I Am Curious: Yellow\" is a risible and preten...</td>\n",
       "      <td>0</td>\n",
       "    </tr>\n",
       "    <tr>\n",
       "      <th>2</th>\n",
       "      <td>If only to avoid making this type of film in t...</td>\n",
       "      <td>0</td>\n",
       "    </tr>\n",
       "    <tr>\n",
       "      <th>3</th>\n",
       "      <td>This film was probably inspired by Godard's Ma...</td>\n",
       "      <td>0</td>\n",
       "    </tr>\n",
       "    <tr>\n",
       "      <th>4</th>\n",
       "      <td>Oh, brother...after hearing about this ridicul...</td>\n",
       "      <td>0</td>\n",
       "    </tr>\n",
       "  </tbody>\n",
       "</table>\n",
       "</div>"
      ],
      "text/plain": [
       "                                                text  label\n",
       "0  I rented I AM CURIOUS-YELLOW from my video sto...      0\n",
       "1  \"I Am Curious: Yellow\" is a risible and preten...      0\n",
       "2  If only to avoid making this type of film in t...      0\n",
       "3  This film was probably inspired by Godard's Ma...      0\n",
       "4  Oh, brother...after hearing about this ridicul...      0"
      ]
     },
     "execution_count": 7,
     "metadata": {},
     "output_type": "execute_result"
    }
   ],
   "source": [
    "from datasets import load_dataset\n",
    "dataset1 = load_dataset(\"imdb\")\n",
    "df1 = pd.DataFrame(dataset1['train'])\n",
    "df1.head()"
   ]
  },
  {
   "cell_type": "code",
   "execution_count": 31,
   "metadata": {},
   "outputs": [
    {
     "name": "stdout",
     "output_type": "stream",
     "text": [
      "Missing values in imdb dataset:\n",
      "text     0\n",
      "label    0\n",
      "dtype: int64\n"
     ]
    }
   ],
   "source": [
    "print(\"Missing values in imdb dataset:\")\n",
    "print(df1.isnull().sum())"
   ]
  },
  {
   "cell_type": "code",
   "execution_count": 32,
   "metadata": {},
   "outputs": [
    {
     "data": {
      "text/plain": [
       "96"
      ]
     },
     "execution_count": 32,
     "metadata": {},
     "output_type": "execute_result"
    }
   ],
   "source": [
    "df1.duplicated().sum()\n"
   ]
  },
  {
   "cell_type": "code",
   "execution_count": 2,
   "metadata": {},
   "outputs": [
    {
     "name": "stdout",
     "output_type": "stream",
     "text": [
      "Total Reviews: 3600000\n",
      "\n",
      "First 5 Rows:\n",
      "['__label__2 Stuning even for the non-gamer: This sound track was beautiful! It paints the senery in your mind so well I would recomend it even to people who hate vid. game music! I have played the game Chrono Cross but out of all of the games I have ever played it has the best music! It backs away from crude keyboarding and takes a fresher step with grate guitars and soulful orchestras. It would impress anyone who cares to listen! ^_^\\n', \"__label__2 The best soundtrack ever to anything.: I'm reading a lot of reviews saying that this is the best 'game soundtrack' and I figured that I'd write a review to disagree a bit. This in my opinino is Yasunori Mitsuda's ultimate masterpiece. The music is timeless and I'm been listening to it for years now and its beauty simply refuses to fade.The price tag on this is pretty staggering I must say, but if you are going to buy any cd for this much money, this is the only one that I feel would be worth every penny.\\n\", '__label__2 Amazing!: This soundtrack is my favorite music of all time, hands down. The intense sadness of \"Prisoners of Fate\" (which means all the more if you\\'ve played the game) and the hope in \"A Distant Promise\" and \"Girl who Stole the Star\" have been an important inspiration to me personally throughout my teen years. The higher energy tracks like \"Chrono Cross ~ Time\\'s Scar~\", \"Time of the Dreamwatch\", and \"Chronomantique\" (indefinably remeniscent of Chrono Trigger) are all absolutely superb as well.This soundtrack is amazing music, probably the best of this composer\\'s work (I haven\\'t heard the Xenogears soundtrack, so I can\\'t say for sure), and even if you\\'ve never played the game, it would be worth twice the price to buy it.I wish I could give it 6 stars.\\n', \"__label__2 Excellent Soundtrack: I truly like this soundtrack and I enjoy video game music. I have played this game and most of the music on here I enjoy and it's truly relaxing and peaceful.On disk one. my favorites are Scars Of Time, Between Life and Death, Forest Of Illusion, Fortress of Ancient Dragons, Lost Fragment, and Drowned Valley.Disk Two: The Draggons, Galdorb - Home, Chronomantique, Prisoners of Fate, Gale, and my girlfriend likes ZelbessDisk Three: The best of the three. Garden Of God, Chronopolis, Fates, Jellyfish sea, Burning Orphange, Dragon's Prayer, Tower Of Stars, Dragon God, and Radical Dreamers - Unstealable Jewel.Overall, this is a excellent soundtrack and should be brought by those that like video game music.Xander Cross\\n\", \"__label__2 Remember, Pull Your Jaw Off The Floor After Hearing it: If you've played the game, you know how divine the music is! Every single song tells a story of the game, it's that good! The greatest songs are without a doubt, Chrono Cross: Time's Scar, Magical Dreamers: The Wind, The Stars, and the Sea and Radical Dreamers: Unstolen Jewel. (Translation varies) This music is perfect if you ask me, the best it can be. Yasunori Mitsuda just poured his heart on and wrote it down on paper.\\n\"]\n"
     ]
    }
   ],
   "source": [
    "import pandas as pd\n",
    "import os\n",
    "import json\n",
    "\n",
    "def save_json(data, filename):\n",
    "    with open(f\"data/{filename}.json\", \"w\", encoding=\"utf-8\") as f:\n",
    "        json.dump(data, f, indent=4, ensure_ascii=False)\n",
    "\n",
    "# Load Amazon Reviews Dataset from local file\n",
    "amazon_reviews_file = \"D:/Customer Emotion Analysis/Customer-Emotion-Analysis/amazon/train.ft.txt/train.ft.txt\"\n",
    "\n",
    "# Read the dataset\n",
    "with open(amazon_reviews_file, \"r\", encoding=\"utf-8\") as f:\n",
    "    amazon_reviews = f.readlines()\n",
    "\n",
    "# Display basic information about the dataset\n",
    "print(f\"Total Reviews: {len(amazon_reviews)}\")\n",
    "print(\"\\nFirst 5 Rows:\")\n",
    "print(amazon_reviews[:5])\n"
   ]
  },
  {
   "cell_type": "code",
   "execution_count": 8,
   "metadata": {},
   "outputs": [],
   "source": [
    "import sqlite3\n",
    "import re\n",
    "\n",
    "conn = sqlite3.connect(\"yelp_data.db\")\n",
    "cursor = conn.cursor()"
   ]
  },
  {
   "cell_type": "code",
   "execution_count": 9,
   "metadata": {},
   "outputs": [],
   "source": [
    "# 1️ Create Table for Amazon Reviews (If not exists)\n",
    "cursor.execute(\"\"\"\n",
    "CREATE TABLE IF NOT EXISTS amazon_reviews (\n",
    "    id INTEGER PRIMARY KEY AUTOINCREMENT,\n",
    "    title TEXT NOT NULL,\n",
    "    review TEXT NOT NULL,\n",
    "    label INTEGER NOT NULL\n",
    ");\n",
    "\"\"\")\n",
    "\n",
    "def process_amazon_data(file_path):\n",
    "    records = []\n",
    "    with open(file_path, \"r\", encoding=\"utf-8\") as file:\n",
    "        for line in file:\n",
    "            # Extract label (either __label__1 or __label__2)\n",
    "            match = re.match(r\"__(label__\\d)\\s(.+)\", line.strip())\n",
    "            if match:\n",
    "                label_text, full_review = match.groups()\n",
    "                \n",
    "                # Convert FastText label to numeric (1 for negative, 2 for positive)\n",
    "                label = 1 if label_text == \"__label__1\" else 2\n",
    "                \n",
    "                # Split title and review text\n",
    "                if \": \" in full_review:\n",
    "                    title, review = full_review.split(\": \", 1)\n",
    "                else:\n",
    "                    title, review = \"No Title\", full_review\n",
    "                \n",
    "                records.append((title, review, label))\n",
    "    \n",
    "    return records"
   ]
  },
  {
   "cell_type": "code",
   "execution_count": 10,
   "metadata": {},
   "outputs": [
    {
     "name": "stdout",
     "output_type": "stream",
     "text": [
      " Successfully stored 3600000 Amazon reviews in yelp_data.db\n"
     ]
    }
   ],
   "source": [
    "# 3️ Load Amazon Reviews into SQLite\n",
    "amazon_reviews = process_amazon_data(\"D:/Customer Emotion Analysis/Customer-Emotion-Analysis/amazon/train.ft.txt/train.ft.txt\")\n",
    "cursor.executemany(\"INSERT INTO amazon_reviews (title, review, label) VALUES (?, ?, ?)\", amazon_reviews)\n",
    "conn.commit()\n",
    "print(f\" Successfully stored {len(amazon_reviews)} Amazon reviews in yelp_data.db\")\n",
    "conn.close()"
   ]
  },
  {
   "cell_type": "code",
   "execution_count": 11,
   "metadata": {},
   "outputs": [
    {
     "name": "stdout",
     "output_type": "stream",
     "text": [
      " IMDB data successfully replaced in yelp_data.db\n"
     ]
    }
   ],
   "source": [
    "import sqlite3\n",
    "import pandas as pd\n",
    "from datasets import load_dataset\n",
    "\n",
    "# Load IMDB dataset\n",
    "dataset1 = load_dataset(\"imdb\")\n",
    "df1 = pd.DataFrame(dataset1['train'])  # Convert Hugging Face dataset to Pandas DataFrame\n",
    "\n",
    "# Connect to SQLite database\n",
    "conn = sqlite3.connect(\"yelp_data.db\")\n",
    "cursor = conn.cursor()\n",
    "\n",
    "cursor.execute(\"DROP TABLE IF EXISTS imdb_reviews\")\n",
    "\n",
    "cursor.execute(\"\"\"\n",
    "CREATE TABLE imdb_reviews (\n",
    "    id INTEGER PRIMARY KEY AUTOINCREMENT,\n",
    "    text TEXT NOT NULL,\n",
    "    label INTEGER NOT NULL\n",
    ");\n",
    "\"\"\")\n",
    "\n",
    "df1.to_sql(\"imdb_reviews\", conn, if_exists=\"replace\", index=False)\n",
    "\n",
    "conn.close()\n",
    "print(\" IMDB data successfully replaced in yelp_data.db\")\n"
   ]
  },
  {
   "cell_type": "code",
   "execution_count": 4,
   "metadata": {},
   "outputs": [
    {
     "name": "stdout",
     "output_type": "stream",
     "text": [
      "Available Tables in yelp_data.db:\n",
      "\n",
      "🔹 Checking Table: business\n",
      "\n",
      " Sample Records:\n",
      "\n",
      "business_id: Pns2l4eNsfO8kk83dixA6A\n",
      "name: Abby Rappoport, LAC, CMQ\n",
      "categories: Doctors, Traditional Chinese Medicine, Naturopathic/Holistic, Acupuncture, Health & Medical, Nutritionists\n",
      "stars: 5.0\n",
      "--------------------------------------------------\n",
      "business_id: mpf3x-BjTdTEA3yCZrAYPw\n",
      "name: The UPS Store\n",
      "categories: Shipping Centers, Local Services, Notaries, Mailbox Centers, Printing Services\n",
      "stars: 3.0\n",
      "--------------------------------------------------\n",
      "\n",
      "============================================================\n",
      "\n",
      "🔹 Checking Table: review\n",
      "\n",
      " Sample Records:\n",
      "\n",
      "review_id: KU_O5udG6zpxOg-VcAEodg\n",
      "business_id: XQfwVwDr-v0ZS3_CbbE5Xw\n",
      "stars: 3.0\n",
      "text: If you decide to eat here, just be aware it is going to take about 2 hours from beginning to end. We have tried it multiple times, because I want to like it! I have been to it's other locations in NJ and never had a bad experience. \n",
      "\n",
      "The food is good, but it takes a very long time to come out. The waitstaff is very young, but usually pleasant. We have just had too many experiences where we spent way too long waiting. We usually opt for another diner or restaurant on the weekends, in order to be done quicker.\n",
      "date: 2018-07-07 22:09:11\n",
      "--------------------------------------------------\n",
      "review_id: BiTunyQ73aT9WBnpR9DZGw\n",
      "business_id: 7ATYjTIgM3jUlt4UM3IypQ\n",
      "stars: 5.0\n",
      "text: I've taken a lot of spin classes over the years, and nothing compares to the classes at Body Cycle. From the nice, clean space and amazing bikes, to the welcoming and motivating instructors, every class is a top notch work out.\n",
      "\n",
      "For anyone who struggles to fit workouts in, the online scheduling system makes it easy to plan ahead (and there's no need to line up way in advanced like many gyms make you do).\n",
      "\n",
      "There is no way I can write this review without giving Russell, the owner of Body Cycle, a shout out. Russell's passion for fitness and cycling is so evident, as is his desire for all of his clients to succeed. He is always dropping in to classes to check in/provide encouragement, and is open to ideas and recommendations from anyone. Russell always wears a smile on his face, even when he's kicking your butt in class!\n",
      "date: 2012-01-03 15:28:18\n",
      "--------------------------------------------------\n",
      "\n",
      "============================================================\n",
      "\n",
      "🔹 Checking Table: amazon_reviews\n",
      "\n",
      " Sample Records:\n",
      "\n",
      "id: 1\n",
      "title: Stuning even for the non-gamer\n",
      "review: This sound track was beautiful! It paints the senery in your mind so well I would recomend it even to people who hate vid. game music! I have played the game Chrono Cross but out of all of the games I have ever played it has the best music! It backs away from crude keyboarding and takes a fresher step with grate guitars and soulful orchestras. It would impress anyone who cares to listen! ^_^\n",
      "label: 2\n",
      "--------------------------------------------------\n",
      "id: 2\n",
      "title: The best soundtrack ever to anything.\n",
      "review: I'm reading a lot of reviews saying that this is the best 'game soundtrack' and I figured that I'd write a review to disagree a bit. This in my opinino is Yasunori Mitsuda's ultimate masterpiece. The music is timeless and I'm been listening to it for years now and its beauty simply refuses to fade.The price tag on this is pretty staggering I must say, but if you are going to buy any cd for this much money, this is the only one that I feel would be worth every penny.\n",
      "label: 2\n",
      "--------------------------------------------------\n",
      "\n",
      "============================================================\n",
      "\n",
      "🔹 Checking Table: sqlite_sequence\n",
      "\n",
      " Sample Records:\n",
      "\n",
      "name: amazon_reviews\n",
      "seq: 3600000\n",
      "--------------------------------------------------\n",
      "\n",
      "============================================================\n",
      "\n",
      "🔹 Checking Table: imdb_reviews\n",
      "\n",
      " Sample Records:\n",
      "\n",
      "text: I rented I AM CURIOUS-YELLOW from my video store because of all the controversy that surrounded it when it was first released in 1967. I also heard that at first it was seized by U.S. customs if it ever tried to enter this country, therefore being a fan of films considered \"controversial\" I really had to see this for myself.<br /><br />The plot is centered around a young Swedish drama student named Lena who wants to learn everything she can about life. In particular she wants to focus her attentions to making some sort of documentary on what the average Swede thought about certain political issues such as the Vietnam War and race issues in the United States. In between asking politicians and ordinary denizens of Stockholm about their opinions on politics, she has sex with her drama teacher, classmates, and married men.<br /><br />What kills me about I AM CURIOUS-YELLOW is that 40 years ago, this was considered pornographic. Really, the sex and nudity scenes are few and far between, even then it's not shot like some cheaply made porno. While my countrymen mind find it shocking, in reality sex and nudity are a major staple in Swedish cinema. Even Ingmar Bergman, arguably their answer to good old boy John Ford, had sex scenes in his films.<br /><br />I do commend the filmmakers for the fact that any sex shown in the film is shown for artistic purposes rather than just to shock people and make money to be shown in pornographic theaters in America. I AM CURIOUS-YELLOW is a good film for anyone wanting to study the meat and potatoes (no pun intended) of Swedish cinema. But really, this film doesn't have much of a plot.\n",
      "label: 0\n",
      "--------------------------------------------------\n",
      "text: \"I Am Curious: Yellow\" is a risible and pretentious steaming pile. It doesn't matter what one's political views are because this film can hardly be taken seriously on any level. As for the claim that frontal male nudity is an automatic NC-17, that isn't true. I've seen R-rated films with male nudity. Granted, they only offer some fleeting views, but where are the R-rated films with gaping vulvas and flapping labia? Nowhere, because they don't exist. The same goes for those crappy cable shows: schlongs swinging in the breeze but not a clitoris in sight. And those pretentious indie movies like The Brown Bunny, in which we're treated to the site of Vincent Gallo's throbbing johnson, but not a trace of pink visible on Chloe Sevigny. Before crying (or implying) \"double-standard\" in matters of nudity, the mentally obtuse should take into account one unavoidably obvious anatomical difference between men and women: there are no genitals on display when actresses appears nude, and the same cannot be said for a man. In fact, you generally won't see female genitals in an American film in anything short of porn or explicit erotica. This alleged double-standard is less a double standard than an admittedly depressing ability to come to terms culturally with the insides of women's bodies.\n",
      "label: 0\n",
      "--------------------------------------------------\n",
      "\n",
      "============================================================\n",
      "\n"
     ]
    }
   ],
   "source": [
    "import sqlite3\n",
    "\n",
    "# Connect to the SQLite database\n",
    "db_path = \"yelp_data.db\"\n",
    "conn = sqlite3.connect(db_path)\n",
    "cursor = conn.cursor()\n",
    "\n",
    "# Get the list of all tables in the database\n",
    "cursor.execute(\"SELECT name FROM sqlite_master WHERE type='table';\")\n",
    "tables = cursor.fetchall()\n",
    "\n",
    "print(\"Available Tables in yelp_data.db:\\n\")\n",
    "for table in tables:\n",
    "    table_name = table[0]\n",
    "    print(f\"🔹 Checking Table: {table_name}\")\n",
    "\n",
    "    # Query first 2 records from each table\n",
    "    cursor.execute(f\"SELECT * FROM {table_name} LIMIT 2;\")\n",
    "    records = cursor.fetchall()\n",
    "\n",
    "    # Fetch column names\n",
    "    cursor.execute(f\"PRAGMA table_info({table_name});\")\n",
    "    columns = [col[1] for col in cursor.fetchall()]\n",
    "\n",
    "    # Print results\n",
    "    print(\"\\n Sample Records:\\n\")\n",
    "    for row in records:\n",
    "        for col_name, col_value in zip(columns, row):\n",
    "            print(f\"{col_name}: {col_value}\")\n",
    "        print(\"-\" * 50)\n",
    "    \n",
    "    print(\"\\n\" + \"=\" * 60 + \"\\n\")\n",
    "\n",
    "# Close database connection\n",
    "conn.close()\n"
   ]
  }
 ],
 "metadata": {
  "kernelspec": {
   "display_name": "base",
   "language": "python",
   "name": "python3"
  },
  "language_info": {
   "codemirror_mode": {
    "name": "ipython",
    "version": 3
   },
   "file_extension": ".py",
   "mimetype": "text/x-python",
   "name": "python",
   "nbconvert_exporter": "python",
   "pygments_lexer": "ipython3",
   "version": "3.12.3"
  }
 },
 "nbformat": 4,
 "nbformat_minor": 2
}
