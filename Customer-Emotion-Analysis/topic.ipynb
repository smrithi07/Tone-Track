{
 "cells": [
  {
   "cell_type": "code",
   "execution_count": 2,
   "metadata": {},
   "outputs": [],
   "source": [
    "import json\n",
    "\n",
    "# Load Yelp reviews from JSON file\n",
    "with open(\"yelp_sample_preprocessed.json\", \"r\") as file:\n",
    "    yelp_data = json.load(file)\n",
    "\n",
    "# Extract review texts\n",
    "reviews = [entry[\"preprocessed_text\"] for entry in yelp_data]  \n"
   ]
  },
  {
   "cell_type": "code",
   "execution_count": 3,
   "metadata": {},
   "outputs": [],
   "source": [
    "import cohere\n",
    "\n",
    "# Initialize Cohere API\n",
    "co = cohere.Client(\"3OX8jQ6maGWiw4KCbiQn95SS0t8aaDrhzwy318Xk\")  # Replace with your key"
   ]
  },
  {
   "cell_type": "code",
   "execution_count": 4,
   "metadata": {},
   "outputs": [],
   "source": [
    "\n",
    "def clean_topics(topics):\n",
    "    \"\"\"Remove punctuation and unnecessary text from topic names.\"\"\"\n",
    "    return [topic.strip().rstrip(\".\") for topic in topics if len(topic) > 1]"
   ]
  },
  {
   "cell_type": "code",
   "execution_count": 5,
   "metadata": {},
   "outputs": [],
   "source": [
    "def extract_main_topics(text):\n",
    "    \"\"\"Extracts exactly 3 main topics from the given text.\"\"\"\n",
    "    response = co.generate(\n",
    "        model=\"command\",\n",
    "        prompt=f\"\"\"Analyze the following customer review and extract **exactly 3** key topics.\n",
    "        - Topics should summarize the **core themes** of the review.\n",
    "        - Ensure they are **concise and relevant** (e.g., 'Service' instead of 'Service quality').\n",
    "        - Avoid generic words like 'good' or 'bad.'\n",
    "        - Output only the topics as a **comma-separated list**.\n",
    "\n",
    "        Review: \"{text}\"\n",
    "\n",
    "        Main Topics:\n",
    "        \"\"\",\n",
    "        max_tokens=15,\n",
    "        temperature=0.2,\n",
    "        stop_sequences=[\"\\n\"]\n",
    "    )\n",
    "\n",
    "    try:\n",
    "        topics = response.generations[0].text.strip().split(\",\")\n",
    "        return clean_topics(topics)\n",
    "    except Exception:\n",
    "        return [\"Error extracting topics\"]\n"
   ]
  },
  {
   "cell_type": "code",
   "execution_count": 6,
   "metadata": {},
   "outputs": [],
   "source": [
    "import re\n",
    "\n",
    "\n",
    "def clean_topicsm(topics_with_scores):\n",
    "    \"\"\"Cleans extracted topics and ensures proper formatting.\"\"\"\n",
    "    cleaned_topics = {}\n",
    "    \n",
    "    for item in topics_with_scores:\n",
    "        match = re.match(r\"(.*)\\((\\d+)%\\)\", item.strip())  # Extract topic & score\n",
    "        if match:\n",
    "            topic, score = match.groups()\n",
    "            cleaned_topics[topic.strip()] = int(score)\n",
    "    \n",
    "    return cleaned_topics\n",
    "\n",
    "def extract_main_topicsm(text):\n",
    "    \"\"\"Extracts 3 main topics with relevance scores from the given text.\"\"\"\n",
    "    response = co.generate(\n",
    "        model=\"command\",\n",
    "        prompt=f\"\"\"\n",
    "        Analyze the following customer review and extract **exactly 3** key topics along with relevance scores.\n",
    "        - Topics should summarize the **core themes** of the review.\n",
    "        - Assign a relevance percentage (0-100%) to each topic, based on its importance in the review.\n",
    "        - Format the response as: Topic1 (X%), Topic2 (Y%), Topic3 (Z%)\n",
    "\n",
    "        Review: \"{text}\"\n",
    "\n",
    "        Main Topics:\n",
    "        \"\"\",\n",
    "        max_tokens=50\n",
    "    )\n",
    "    \n",
    "    try:\n",
    "        topics = response.generations[0].text.strip().split(\",\")  # Get raw topics\n",
    "        return clean_topicsm(topics)  # Extract and clean topics with scores\n",
    "    except Exception:\n",
    "        return {\"Error extracting topics\": 100}  # Default if extraction fails\n"
   ]
  },
  {
   "cell_type": "code",
   "execution_count": 7,
   "metadata": {},
   "outputs": [],
   "source": [
    "def extract_subtopics(text, topic):\n",
    "    \"\"\"Extracts 1-3 concise, one-word subtopics for a given main topic.\"\"\"\n",
    "    response = co.generate(\n",
    "        model=\"command\",\n",
    "        prompt=f\"\"\"For the topic '{topic}', extract **1 relevant subtopics** based on the review.\n",
    "        - Each subtopic should be **one word** (e.g., 'Speed' instead of 'Fast Delivery').\n",
    "        - Avoid generic words like 'good' or 'bad.'\n",
    "        - Output only the subtopics as a **comma-separated list**.\n",
    "\n",
    "        Review: \"{text}\"\n",
    "\n",
    "        Subtopics:\n",
    "        \"\"\",\n",
    "        max_tokens=10,\n",
    "        temperature=0.2,\n",
    "        stop_sequences=[\"\\n\"]\n",
    "    )\n",
    "\n",
    "    try:\n",
    "        subtopics = response.generations[0].text.strip().split(\",\")\n",
    "        return clean_topics(subtopics[:3])  # Max 3 subtopics\n",
    "    except Exception:\n",
    "        return [\"Error extracting subtopics\"]"
   ]
  },
  {
   "cell_type": "code",
   "execution_count": 8,
   "metadata": {},
   "outputs": [],
   "source": [
    "def process_review(text):\n",
    "    \"\"\"Processes a single review to extract topics, subtopics, and emotion.\"\"\"\n",
    "    main_topics = extract_main_topics(text)\n",
    "    subtopics = {topic: extract_subtopics(text, topic) for topic in main_topics}\n",
    "\n",
    "    return {\n",
    "        \"review\": text,\n",
    "        \"topics\": {\n",
    "            \"main\": main_topics,\n",
    "            \"subtopics\": subtopics\n",
    "        }\n",
    "    }\n"
   ]
  },
  {
   "cell_type": "code",
   "execution_count": 9,
   "metadata": {},
   "outputs": [
    {
     "name": "stdout",
     "output_type": "stream",
     "text": [
      "\n",
      "**Review 1**\n",
      "Original Text: yum great local restaurant made name serf delicious food snickerdoodle pancake delicious specialize various kind egg benedict delicious\n",
      "Extracted Topics: {'main': ['Food', 'Diversity', 'Specialization'], 'subtopics': {'Food': ['Taste', 'Variety', 'Egg Benedict'], 'Diversity': ['Diversity', 'Food', 'Pancakes'], 'Specialization': ['Specialization', 'Variety', 'Deliciousness']}}\n",
      "\n",
      "**Review 2**\n",
      "Original Text: soooo good great food great service rice bowl amazing wow kind people exeptional food would come\n",
      "Extracted Topics: {'main': ['Service', 'Food Quality', 'Experience'], 'subtopics': {'Service': ['Speed', 'Kindness', 'Food Quality'], 'Food Quality': ['Quality', 'Service', 'Experience'], 'Experience': ['Service', 'Food', 'Experience']}}\n",
      "\n",
      "**Review 3**\n",
      "Original Text: went saturday afternoon everyone friendly informed special margoli cut hair great friendly gave best cut ive ever wasnt easy cause hadnt cut since fall atmosphere relaxing comparison another salon main street far better going back every time need trim\n",
      "Extracted Topics: {'main': ['Service', 'Skill', 'Atmosphere'], 'subtopics': {'Service': ['Service', 'Atmosphere', 'Friendliness'], 'Skill': ['Skill', 'friendliness', 'attention to detail'], 'Atmosphere': ['Service', 'Atmosphere', 'Comparison']}}\n",
      "\n",
      "**Review 4**\n",
      "Original Text: throwing towel deterra dined number time past two year imve slowly lost fondness restaurant service always best often faulted kitchen slow processing food latest visit resulted leaving ordering menu shrunk say main menu received menu order main cheese wine mysterious menu pizza worth time\n",
      "Extracted Topics: {'main': ['Food', 'Service', 'Menu Options'], 'subtopics': {'Food': ['Speed', 'Taste', 'Menu'], 'Service': ['Speed', 'Menu', 'Food'], 'Menu Options': ['MenuOptions', 'Speed', 'Variety']}}\n",
      "\n",
      "**Review 5**\n",
      "Original Text: cielo spa visit like launching pad better getting went cielo spa relaxed treated beautifully extraction gentler ive ever admire mad facial skill loved product used great gift\n",
      "Extracted Topics: {'main': ['Service', 'Relaxation', 'Extraction Skill'], 'subtopics': {'Service': ['Service Speed', 'Treatment Effectiveness', 'Skill of Service'], 'Relaxation': ['Extraction', 'Relaxation', 'Treatment'], 'Extraction Skill': ['Extraction', 'Skill', 'Gentleness']}}\n"
     ]
    }
   ],
   "source": [
    "# Process and print results for the first 5 reviews\n",
    "for i, review in enumerate(reviews[:5]):  \n",
    "    result = process_review(review)\n",
    "    \n",
    "    print(f\"\\n**Review {i+1}**\")\n",
    "    print(\"Original Text:\", result[\"review\"])\n",
    "    print(\"Extracted Topics:\", result[\"topics\"])"
   ]
  },
  {
   "cell_type": "code",
   "execution_count": 10,
   "metadata": {},
   "outputs": [],
   "source": [
    "import pandas as pd\n",
    "import nltk\n",
    "from nltk.sentiment import SentimentIntensityAnalyzer\n",
    "import datetime"
   ]
  },
  {
   "cell_type": "code",
   "execution_count": 11,
   "metadata": {},
   "outputs": [
    {
     "name": "stderr",
     "output_type": "stream",
     "text": [
      "[nltk_data] Downloading package vader_lexicon to\n",
      "[nltk_data]     C:\\Users\\smrit\\AppData\\Roaming\\nltk_data...\n",
      "[nltk_data]   Package vader_lexicon is already up-to-date!\n"
     ]
    }
   ],
   "source": [
    "# Download VADER for sentiment analysis (only needed once)\n",
    "nltk.download('vader_lexicon')\n",
    "\n",
    "# Initialize Sentiment Analyzer\n",
    "sia = SentimentIntensityAnalyzer()"
   ]
  },
  {
   "cell_type": "code",
   "execution_count": 12,
   "metadata": {},
   "outputs": [],
   "source": [
    "def analyze_sentiment(text):\n",
    "    \"\"\"Uses VADER sentiment analysis to return a score from -100 to +100.\"\"\"\n",
    "    sentiment = sia.polarity_scores(text)  # Returns pos, neu, neg, and compound scores\n",
    "    return int(sentiment[\"compound\"] * 100)  # Scale to -100 to +100"
   ]
  },
  {
   "cell_type": "code",
   "execution_count": 13,
   "metadata": {},
   "outputs": [],
   "source": [
    "def compute_adorescore(text, topics):\n",
    "    \"\"\"Computes Adorescore using weighted sentiment and topic relevance.\"\"\"\n",
    "    overall_sentiment = analyze_sentiment(text)\n",
    "    \n",
    "    topic_breakdown = {}\n",
    "    weighted_sum = 0\n",
    "    total_weight = sum(topics.values())  # Sum of topic relevance scores\n",
    "\n",
    "    for topic, weight in topics.items():\n",
    "        topic_sentiment = analyze_sentiment(topic)  # Get sentiment of topic itself\n",
    "        weighted_score = (topic_sentiment + overall_sentiment) / 2  # Average topic + review sentiment\n",
    "        weighted_score *= (weight / 100)  # Adjust by topic relevance\n",
    "\n",
    "        topic_breakdown[topic] = round(weighted_score, 2)\n",
    "        weighted_sum += weighted_score\n",
    "\n",
    "    # Compute final Adorescore\n",
    "    adorescore = round(weighted_sum / total_weight * 100) if total_weight > 0 else 0\n",
    "\n",
    "    return {\n",
    "        \"adorescore\": {\n",
    "            \"overall\": adorescore,\n",
    "            \"breakdown\": topic_breakdown\n",
    "        },\n",
    "        \"timestamp\": datetime.datetime.now().isoformat()\n",
    "    }"
   ]
  },
  {
   "cell_type": "code",
   "execution_count": 14,
   "metadata": {},
   "outputs": [
    {
     "name": "stdout",
     "output_type": "stream",
     "text": [
      "\n",
      "**Review 1**\n",
      "Original Text: yum great local restaurant made name serf delicious food snickerdoodle pancake delicious specialize various kind egg benedict delicious\n",
      "Extracted Topics: {'Food Quality': 70, 'Local Vibe': 20, 'Specialist Menu': 10, 'accounting for the largest percentage': 70}\n",
      "Adorescore: 48\n",
      "Topic Breakdown: {'Food Quality': 33.6, 'Local Vibe': 9.6, 'Specialist Menu': 4.8, 'accounting for the largest percentage': 33.6}\n",
      "Timestamp: 2025-02-26T00:44:37.429892\n",
      "\n",
      "**Review 2**\n",
      "Original Text: soooo good great food great service rice bowl amazing wow kind people exeptional food would come\n",
      "Extracted Topics: {'Food': 80, 'Service': 10, 'General Impression': 10}\n",
      "Adorescore: 50\n",
      "Topic Breakdown: {'Food': 38.8, 'Service': 4.85, 'General Impression': 5.95}\n",
      "Timestamp: 2025-02-26T00:44:39.418319\n",
      "\n",
      "**Review 3**\n",
      "Original Text: went saturday afternoon everyone friendly informed special margoli cut hair great friendly gave best cut ive ever wasnt easy cause hadnt cut since fall atmosphere relaxing comparison another salon main street far better going back every time need trim\n",
      "Extracted Topics: {'Customer Service': 62, 'Quality of Service': 21, 'Atmosphere': 17}\n",
      "Adorescore: 48\n",
      "Topic Breakdown: {'Customer Service': 29.45, 'Quality of Service': 9.97, 'Atmosphere': 8.08}\n",
      "Timestamp: 2025-02-26T00:44:51.572904\n",
      "\n",
      "**Review 4**\n",
      "Original Text: throwing towel deterra dined number time past two year imve slowly lost fondness restaurant service always best often faulted kitchen slow processing food latest visit resulted leaving ordering menu shrunk say main menu received menu order main cheese wine mysterious menu pizza worth time\n",
      "Extracted Topics: {}\n",
      "Adorescore: 0\n",
      "Topic Breakdown: {}\n",
      "Timestamp: 2025-02-26T00:44:59.799016\n",
      "\n",
      "**Review 5**\n",
      "Original Text: cielo spa visit like launching pad better getting went cielo spa relaxed treated beautifully extraction gentler ive ever admire mad facial skill loved product used great gift\n",
      "Extracted Topics: {}\n",
      "Adorescore: 0\n",
      "Topic Breakdown: {}\n",
      "Timestamp: 2025-02-26T00:45:19.957586\n",
      "\n",
      "**Review 6**\n",
      "Original Text: mad house loud messy people rushing everywhere service good food ready quickly food soon fry cool even slightest really start taste sub pare\n",
      "Extracted Topics: {}\n",
      "Adorescore: 0\n",
      "Topic Breakdown: {}\n",
      "Timestamp: 2025-02-26T00:45:21.807773\n",
      "\n",
      "**Review 7**\n",
      "Original Text: awful macaroon place ive eaten make macaroon awful artificial flavor enjoy disgusting style macaroon maybe place macaroon make want throw away one bite deserve star ive number delicious macaroon philly place sell macaroon cheaper normal sized macaroon giant macaroon\n",
      "Extracted Topics: {'Poor quality of food': 70, 'Inedible experience': 20, 'Macaroon size': 10}\n",
      "Adorescore: -27\n",
      "Topic Breakdown: {'Poor quality of food': -24.15, 'Inedible experience': -2.2, 'Macaroon size': -1.1}\n",
      "Timestamp: 2025-02-26T00:45:23.691489\n",
      "\n",
      "**Review 8**\n",
      "Original Text: frequented place membership nearby gym verizonriverport booked show interested convenient access back way venue move different part town caused visit often ive made couple trip airport recently provided opportunity dine thai kitchen food spectacular time papaya salad cry tiger appetizer fit bill ill try larb gai next time spicy noodle came massive portion featured delicious green bean right amount heat musaman curry rich creamy indecent thought right decor may best service wasnt perfect food excellent overpriced\n",
      "Extracted Topics: {'Food': 35, 'Convenience': 20, 'Service': 15, 'Value': 20}\n",
      "Adorescore: 45\n",
      "Topic Breakdown: {'Food': 14.35, 'Convenience': 8.2, 'Service': 6.15, 'Value': 11.6}\n",
      "Timestamp: 2025-02-26T00:45:54.665538\n",
      "\n",
      "**Review 9**\n",
      "Original Text: ive heard said purchasing home one true rite passage adulthood wont disagree much passage hiring mover first time rather pursuading rag tag group friend promise beer reciprocation time move honesty combine amount friend drink rising cost craft beer there really much saving despite paragraph boo purchased new home still planned gathering gang getting couple uhauls knocking callowhill carpenter move broke collarbone unfortunate accident ironically involving craft beer cemented plan action mover realtor former property manager told theyd good experience bsm confirmed yelp pulled trigger locked brief conversation decided mover plenty foot truck would arrive sunday morning sunday morning rolled around pulling gate ready rock dude worked speed precision group drunk bros would able come close despite hourly rate never time ready roll hour got new casa unpacking even quicker hour wall scratched besides glass everything made intact guy great service fantastic eventually take trail tear burbs bsm definitely move\n",
      "Extracted Topics: {'Topic1': 35}\n",
      "Adorescore: 48\n",
      "Topic Breakdown: {'Topic1': 16.97}\n",
      "Timestamp: 2025-02-26T00:45:56.513186\n",
      "\n",
      "**Review 10**\n",
      "Original Text: always fresh fast delicious staff friendly check regularly offer spacious outdoor seating well view water\n",
      "Extracted Topics: {'Fresh food': 70, 'Great ambiance': 20, 'Water view': 10}\n",
      "Adorescore: 61\n",
      "Topic Breakdown: {'Fresh food': 41.65, 'Great ambiance': 15.0, 'Water view': 4.4}\n",
      "Timestamp: 2025-02-26T00:46:02.344097\n"
     ]
    }
   ],
   "source": [
    "for i, review in enumerate(reviews[:10]):  \n",
    "    main_topics = extract_main_topicsm(review)  # Extract topics with relevance scores\n",
    "    adorescore_data = compute_adorescore(review, main_topics)\n",
    "\n",
    "    print(f\"\\n**Review {i+1}**\")\n",
    "    print(\"Original Text:\", review)\n",
    "    print(\"Extracted Topics:\", main_topics)\n",
    "    print(\"Adorescore:\", adorescore_data[\"adorescore\"][\"overall\"])\n",
    "    print(\"Topic Breakdown:\", adorescore_data[\"adorescore\"][\"breakdown\"])\n",
    "    print(\"Timestamp:\", adorescore_data[\"timestamp\"])\n"
   ]
  }
 ],
 "metadata": {
  "kernelspec": {
   "display_name": "base",
   "language": "python",
   "name": "python3"
  },
  "language_info": {
   "codemirror_mode": {
    "name": "ipython",
    "version": 3
   },
   "file_extension": ".py",
   "mimetype": "text/x-python",
   "name": "python",
   "nbconvert_exporter": "python",
   "pygments_lexer": "ipython3",
   "version": "3.12.3"
  }
 },
 "nbformat": 4,
 "nbformat_minor": 2
}
